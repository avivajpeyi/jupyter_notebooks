{
 "cells": [
  {
   "cell_type": "code",
   "execution_count": 34,
   "metadata": {},
   "outputs": [
    {
     "name": "stdout",
     "output_type": "stream",
     "text": [
      "Getting quality data H1:DMT-GRD_ISC_LOCK_NOMINAL:1 1241725020-1242485126\n",
      "Flag active: 9 segments active\n",
      "Getting quality data L1:DMT-GRD_ISC_LOCK_NOMINAL:1 1241725020-1242485126\n",
      "Flag active: 25 segments active\n"
     ]
    },
    {
     "name": "stderr",
     "output_type": "stream",
     "text": [
      "/home/avi.vajpeyi/.conda/envs/timeslides/lib/python3.7/site-packages/ipykernel_launcher.py:26: FutureWarning: arrays to stack must be passed as a \"sequence\" type such as list or tuple. Support for non-sequence iterables such as generators is deprecated as of NumPy 1.16 and will raise an error in the future.\n"
     ]
    },
    {
     "data": {
      "image/png": "[encoded data removed]",
      "text/plain": [
       "<Plot size 864x288 with 1 Axes>"
      ]
     },
     "metadata": {
      "needs_background": "light"
     },
     "output_type": "display_data"
    }
   ],
   "source": [
    "import os\n",
    "\n",
    "import random\n",
    "import matplotlib.colors as colors\n",
    "\n",
    "\n",
    "\n",
    "import PIL\n",
    "import numpy as np\n",
    "\n",
    "from gwpy.segments import DataQualityFlag\n",
    "from pycbc_trigger_parser.data.o3 import chunk6\n",
    "\n",
    "\n",
    "def gps_time_to_str(gps_time):\n",
    "    return str(gps_time).replace(\".\", \"_\")\n",
    "\n",
    "\n",
    "def image_concat(image_paths):\n",
    "    list_im = image_paths\n",
    "    imgs = [PIL.Image.open(i) for i in list_im]\n",
    "    # pick the image which is the smallest, and resize the others to match it\n",
    "    min_shape = sorted([(np.sum(i.size), i.size) for i in imgs])[0][1]\n",
    "\n",
    "    # for a vertical stacking it is simple: use vstack\n",
    "    imgs_comb = np.vstack((np.asarray(i.resize(min_shape)) for i in imgs))\n",
    "    imgs_comb = PIL.Image.fromarray(imgs_comb)\n",
    "    imgs_comb.save('times_on.png')\n",
    "\n",
    "\n",
    "\n",
    "def plot_combined_data_quality(h1_quality, l1_quality, limits, gps_times=None):\n",
    "    both_ifo_on = h1_quality & l1_quality\n",
    "\n",
    "    h1_plot = h1_quality.plot(label='H1')\n",
    "    h1_ax = h1_plot.gca()\n",
    "\n",
    "    l1_plot = l1_quality.plot(label='L1')\n",
    "    l1_ax = l1_plot.gca()\n",
    "\n",
    "    if type(gps_times) is np.ndarray:\n",
    "        for gps_time in gps_times:\n",
    "            c = random.choice(list(colors.cnames.keys()))\n",
    "            kwargs = dict(color=c, alpha=0.3, ymin=0.3, ymax=0.7)\n",
    "            h1_ax.axvline(x=gps_time[0], **kwargs)\n",
    "            l1_ax.axvline(x=gps_time[1], **kwargs)\n",
    "\n",
    "    both_plot = both_ifo_on.plot(label=\"Both\")\n",
    "    h1_ax.set_xlim(limits[0],limits[1])\n",
    "    l1_ax.set_xlim(limits[0],limits[1])\n",
    "    \n",
    "    fnames = [ \"BothOn.png\", \"H1_times.png\", \"L1_times.png\"]\n",
    "\n",
    "    h1_plot.savefig(fnames[0])\n",
    "    l1_plot.savefig(fnames[1])\n",
    "    both_plot.savefig(fnames[2])\n",
    "    image_concat(fnames)\n",
    "    # delete temp images\n",
    "    for im in fnames:\n",
    "        os.remove(im)\n",
    "\n",
    "\n",
    "def get_data_quality(start_time, end_time, ifo):\n",
    "    channel_num = 1\n",
    "    quality_flag = f\"{ifo}:DMT-GRD_ISC_LOCK_NOMINAL:{channel_num}\"\n",
    "    print(f\"Getting quality data {quality_flag} {start_time}-{end_time}\")\n",
    "    fname = (\n",
    "        f\"{ifo}{quality_flag.replace(':', '-')}{channel_num}_\"\n",
    "        f\"{gps_time_to_str(start_time)}-{gps_time_to_str(end_time)}\"\n",
    "        f\".hdf5\"\n",
    "    )\n",
    "    if os.path.isfile(fname):\n",
    "        flag = DataQualityFlag.read(fname)\n",
    "    else:\n",
    "        flag = DataQualityFlag.query(quality_flag, start_time, end_time)\n",
    "        flag.write(fname)\n",
    "    print(f\"Flag active: {len(flag.active)} segments active\")\n",
    "    return flag\n",
    "\n",
    "def get_gps_times(gps_times_fn, timeslides_fn):\n",
    "\n",
    "    # each GPS time in its own row\n",
    "    gps_times = np.loadtxt(gps_times_fn, ndmin=2)\n",
    "    \"\"\"\n",
    "        gps_times = [\n",
    "            [1.24138438e+09],\n",
    "            [1.24139821e+09],\n",
    "            [1.24140133e+09],\n",
    "            ...,\n",
    "            [1.24279381e+09],\n",
    "            [1.24281034e+09],\n",
    "            [1.24281876e+09]\n",
    "        ]\n",
    "    \"\"\"\n",
    "    if timeslides_fn:\n",
    "        timeslides = np.loadtxt(timeslides_fn)\n",
    "    else:\n",
    "        timeslides = np.zeros((len(gps_times), 2))\n",
    "    \n",
    "    h1_l1_gps_times = gps_times + timeslides\n",
    "    return h1_l1_gps_times\n",
    "\n",
    "\n",
    "\n",
    "def main():\n",
    "    start_time = chunk6.START_TIME\n",
    "    end_time = chunk6.END_TIME\n",
    "\n",
    "    gps_times = get_gps_times(\n",
    "        gps_times_fn='../background/pyCBC_background/triggers_filtered_by_454ms/gps_start_time.txt',\n",
    "        timeslides_fn='../background/pyCBC_background/triggers_filtered_by_454ms/timeslide.txt'\n",
    "    )\n",
    "\n",
    "    detectors = [\"H1\", \"L1\"]\n",
    "    quality_data = {d: get_data_quality(start_time, end_time, d) for d in detectors}\n",
    "    plot_combined_data_quality(quality_data[\"H1\"], quality_data[\"L1\"], [start_time, end_time], gps_times)\n",
    "\n",
    "\n",
    "main()\n"
   ]
  },
  {
   "cell_type": "code",
   "execution_count": null,
   "metadata": {},
   "outputs": [],
   "source": []
  }
 ],
 "metadata": {
  "kernelspec": {
   "display_name": "timeshifts",
   "language": "python",
   "name": "timeshifts"
  },
  "language_info": {
   "codemirror_mode": {
    "name": "ipython",
    "version": 3
   },
   "file_extension": ".py",
   "mimetype": "text/x-python",
   "name": "python",
   "nbconvert_exporter": "python",
   "pygments_lexer": "ipython3",
   "version": "3.7.3"
  }
 },
 "nbformat": 4,
 "nbformat_minor": 4
}
